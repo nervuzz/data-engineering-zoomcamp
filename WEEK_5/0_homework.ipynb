{
 "cells": [
  {
   "cell_type": "code",
   "execution_count": null,
   "id": "8d93884d",
   "metadata": {},
   "outputs": [],
   "source": [
    "import os\n",
    "\n",
    "os.environ[\"JAVA_HOME\"] = \"/home/nervuzz/tmp/jdk-11.0.2\"\n",
    "os.environ[\"PATH\"] += f':{os.environ[\"JAVA_HOME\"]}/bin'\n",
    "os.environ[\"SPARK_HOME\"] = \"/home/nervuzz/tmp/spark-3.0.3-bin-hadoop3.2\"\n",
    "os.environ[\"PATH\"] += f':{os.environ[\"SPARK_HOME\"]}/bin'\n",
    "os.environ[\"PYTHONPATH\"] = f'{os.environ[\"SPARK_HOME\"]}/python/'\n",
    "os.environ[\"PYTHONPATH\"] += f':{os.environ[\"SPARK_HOME\"]}/python/lib/py4j-0.10.9-src.zip'\n",
    "\n",
    "# export JAVA_HOME=\"${HOME}/tmp/jdk-11.0.2\"\n",
    "# export PATH=\"${JAVA_HOME}/bin:${PATH}\"\n",
    "# export SPARK_HOME=\"${HOME}/tmp/spark-3.0.3-bin-hadoop3.2\"\n",
    "# export PATH=\"${SPARK_HOME}/bin:${PATH}\"\n",
    "# export PYTHONPATH=\"${SPARK_HOME}/python/:$PYTHONPATH\"\n",
    "# export PYTHONPATH=\"${SPARK_HOME}/python/lib/py4j-0.10.9-src.zip:$PYTHONPATH\""
   ]
  },
  {
   "cell_type": "code",
   "execution_count": 13,
   "id": "72505747",
   "metadata": {},
   "outputs": [],
   "source": [
    "from datetime import datetime\n",
    "\n",
    "import pandas as pd\n",
    "import pyspark\n",
    "from pyspark.sql import types, SparkSession\n",
    "from pyspark.sql import functions as F"
   ]
  },
  {
   "cell_type": "code",
   "execution_count": 2,
   "id": "cf6d80ad",
   "metadata": {},
   "outputs": [
    {
     "name": "stderr",
     "output_type": "stream",
     "text": [
      "22/03/07 20:59:57 WARN Utils: Your hostname, DELL resolves to a loopback address: 127.0.1.1; using 192.168.93.247 instead (on interface eth0)\n",
      "22/03/07 20:59:57 WARN Utils: Set SPARK_LOCAL_IP if you need to bind to another address\n",
      "WARNING: An illegal reflective access operation has occurred\n",
      "WARNING: Illegal reflective access by org.apache.spark.unsafe.Platform (file:/home/nervuzz/tmp/spark-3.0.3-bin-hadoop3.2/jars/spark-unsafe_2.12-3.0.3.jar) to constructor java.nio.DirectByteBuffer(long,int)\n",
      "WARNING: Please consider reporting this to the maintainers of org.apache.spark.unsafe.Platform\n",
      "WARNING: Use --illegal-access=warn to enable warnings of further illegal reflective access operations\n",
      "WARNING: All illegal access operations will be denied in a future release\n",
      "22/03/07 20:59:59 WARN NativeCodeLoader: Unable to load native-hadoop library for your platform... using builtin-java classes where applicable\n",
      "Using Spark's default log4j profile: org/apache/spark/log4j-defaults.properties\n",
      "Setting default log level to \"WARN\".\n",
      "To adjust logging level use sc.setLogLevel(newLevel). For SparkR, use setLogLevel(newLevel).\n"
     ]
    }
   ],
   "source": [
    "spark = SparkSession.builder \\\n",
    "    .master(\"local[*]\") \\\n",
    "    .appName(\"de_camp\") \\\n",
    "    .getOrCreate()"
   ]
  },
  {
   "cell_type": "code",
   "execution_count": 3,
   "id": "12342345",
   "metadata": {},
   "outputs": [
    {
     "name": "stdout",
     "output_type": "stream",
     "text": [
      "hvfhs_license_num,dispatching_base_num,pickup_datetime,dropoff_datetime,PULocationID,DOLocationID,SR_Flag\n",
      "HV0003,B02764,2021-02-01 00:10:40,2021-02-01 00:21:09,35,39,\n",
      "HV0003,B02764,2021-02-01 00:27:23,2021-02-01 00:44:01,39,35,\n",
      "HV0005,B02510,2021-02-01 00:28:38,2021-02-01 00:38:27,39,91,\n",
      "HV0005,B02510,2021-02-01 00:43:37,2021-02-01 01:23:20,91,228,\n"
     ]
    }
   ],
   "source": [
    "dataset = \"assets/fhvhv_tripdata_2021-02.csv\"\n",
    "!head -n 5 $dataset"
   ]
  },
  {
   "cell_type": "code",
   "execution_count": 10,
   "id": "809464d0",
   "metadata": {},
   "outputs": [],
   "source": [
    "df = spark.read \\\n",
    "    .option(\"header\", \"true\") \\\n",
    "    .csv(dataset)"
   ]
  },
  {
   "cell_type": "code",
   "execution_count": 11,
   "id": "e36dd996",
   "metadata": {},
   "outputs": [
    {
     "data": {
      "text/plain": [
       "StructType(List(StructField(hvfhs_license_num,StringType,true),StructField(dispatching_base_num,StringType,true),StructField(pickup_datetime,StringType,true),StructField(dropoff_datetime,StringType,true),StructField(PULocationID,StringType,true),StructField(DOLocationID,StringType,true),StructField(SR_Flag,StringType,true)))"
      ]
     },
     "execution_count": 11,
     "metadata": {},
     "output_type": "execute_result"
    }
   ],
   "source": [
    "df.schema"
   ]
  },
  {
   "cell_type": "code",
   "execution_count": 4,
   "id": "14d5de28-8908-42f4-af27-a29de9345107",
   "metadata": {},
   "outputs": [],
   "source": [
    "# !head -n 1001 $dataset > assets/head_fhvhv_tripdata_2021_02.csv\n",
    "dataset_head = \"assets/head_fhvhv_tripdata_2021_02.csv\""
   ]
  },
  {
   "cell_type": "code",
   "execution_count": 16,
   "id": "3ae8ac98-5c57-45dd-90ac-874fe700d880",
   "metadata": {},
   "outputs": [],
   "source": [
    "df_pandas = pd.read_csv(dataset_head)"
   ]
  },
  {
   "cell_type": "code",
   "execution_count": 18,
   "id": "4f74e98c-0e2e-460e-bf7f-de7cf982004c",
   "metadata": {},
   "outputs": [
    {
     "data": {
      "text/plain": [
       "[('hvfhs_license_num', 'string'),\n",
       " ('dispatching_base_num', 'string'),\n",
       " ('pickup_datetime', 'string'),\n",
       " ('dropoff_datetime', 'string'),\n",
       " ('PULocationID', 'string'),\n",
       " ('DOLocationID', 'string'),\n",
       " ('SR_Flag', 'string')]"
      ]
     },
     "execution_count": 18,
     "metadata": {},
     "output_type": "execute_result"
    }
   ],
   "source": [
    "df.dtypes"
   ]
  },
  {
   "cell_type": "code",
   "execution_count": 19,
   "id": "b72ef42f-81ba-4932-acf0-7c3a75dda8d9",
   "metadata": {},
   "outputs": [
    {
     "data": {
      "text/plain": [
       "StructType(List(StructField(hvfhs_license_num,StringType,true),StructField(dispatching_base_num,StringType,true),StructField(pickup_datetime,StringType,true),StructField(dropoff_datetime,StringType,true),StructField(PULocationID,LongType,true),StructField(DOLocationID,LongType,true),StructField(SR_Flag,DoubleType,true)))"
      ]
     },
     "execution_count": 19,
     "metadata": {},
     "output_type": "execute_result"
    }
   ],
   "source": [
    "spark.createDataFrame(df_pandas).schema"
   ]
  },
  {
   "cell_type": "code",
   "execution_count": 21,
   "id": "f0e66db6-6cb5-4f4a-b16f-7e169183fbae",
   "metadata": {},
   "outputs": [],
   "source": [
    "schema = types.StructType([\n",
    "    types.StructField('hvfhs_license_num', types.StringType(), True),\n",
    "    types.StructField('dispatching_base_num', types.StringType(), True),\n",
    "    types.StructField('pickup_datetime', types.TimestampType(), True),\n",
    "    types.StructField('dropoff_datetime', types.TimestampType(), True),\n",
    "    types.StructField('PULocationID', types.IntegerType(), True),\n",
    "    types.StructField('DOLocationID', types.IntegerType(), True),\n",
    "    types.StructField('SR_Flag', types.StringType(), True)\n",
    "])"
   ]
  },
  {
   "cell_type": "code",
   "execution_count": 23,
   "id": "0af1890f-e057-4845-bd6d-870665eb0bb5",
   "metadata": {},
   "outputs": [],
   "source": [
    "df = spark.read \\\n",
    "    .option(\"header\", \"true\") \\\n",
    "    .schema(schema) \\\n",
    "    .csv(dataset)"
   ]
  },
  {
   "cell_type": "code",
   "execution_count": 24,
   "id": "97fafef8-811f-4991-af96-4f5b331c3f76",
   "metadata": {},
   "outputs": [
    {
     "data": {
      "text/plain": [
       "StructType(List(StructField(hvfhs_license_num,StringType,true),StructField(dispatching_base_num,StringType,true),StructField(pickup_datetime,TimestampType,true),StructField(dropoff_datetime,TimestampType,true),StructField(PULocationID,IntegerType,true),StructField(DOLocationID,IntegerType,true),StructField(SR_Flag,StringType,true)))"
      ]
     },
     "execution_count": 24,
     "metadata": {},
     "output_type": "execute_result"
    }
   ],
   "source": [
    "df.schema"
   ]
  },
  {
   "cell_type": "code",
   "execution_count": 26,
   "id": "90e89cf6-f4ce-4e9e-9c9a-1956b5e6752c",
   "metadata": {},
   "outputs": [],
   "source": [
    "df = df.repartition(24)"
   ]
  },
  {
   "cell_type": "code",
   "execution_count": 27,
   "id": "dc4f649a-0ca4-44c6-8f3f-93c0050ebfaa",
   "metadata": {},
   "outputs": [
    {
     "name": "stderr",
     "output_type": "stream",
     "text": [
      "22/03/06 22:21:05 WARN MemoryManager: Total allocation exceeds 95.00% (1,020,054,720 bytes) of heap memory\n",
      "Scaling row group sizes to 95.00% for 8 writers\n",
      "22/03/06 22:21:09 WARN MemoryManager: Total allocation exceeds 95.00% (1,020,054,720 bytes) of heap memory\n",
      "Scaling row group sizes to 95.00% for 8 writers\n",
      "22/03/06 22:21:11 WARN MemoryManager: Total allocation exceeds 95.00% (1,020,054,720 bytes) of heap memory\n",
      "Scaling row group sizes to 95.00% for 8 writers\n",
      "                                                                                \r"
     ]
    }
   ],
   "source": [
    "df.write.parquet(\"assets/fhvhv/2021/02/\")"
   ]
  },
  {
   "cell_type": "code",
   "execution_count": 5,
   "id": "d2b4c588-7a49-42e0-926f-689b27c721e9",
   "metadata": {},
   "outputs": [
    {
     "name": "stderr",
     "output_type": "stream",
     "text": [
      "                                                                                \r"
     ]
    },
    {
     "name": "stdout",
     "output_type": "stream",
     "text": [
      "root\n",
      " |-- hvfhs_license_num: string (nullable = true)\n",
      " |-- dispatching_base_num: string (nullable = true)\n",
      " |-- pickup_datetime: timestamp (nullable = true)\n",
      " |-- dropoff_datetime: timestamp (nullable = true)\n",
      " |-- PULocationID: integer (nullable = true)\n",
      " |-- DOLocationID: integer (nullable = true)\n",
      " |-- SR_Flag: string (nullable = true)\n",
      "\n"
     ]
    }
   ],
   "source": [
    "df = spark.read.parquet(\"assets/fhvhv/2021/02/\")\n",
    "df.printSchema()"
   ]
  },
  {
   "cell_type": "code",
   "execution_count": 11,
   "id": "e4bfa139-b209-4ec6-9435-b8020784c0c2",
   "metadata": {},
   "outputs": [
    {
     "name": "stdout",
     "output_type": "stream",
     "text": [
      "total 206M\n",
      "-rw-r--r-- 1 nervuzz nervuzz    0 Mar  6 22:21 _SUCCESS\n",
      "-rw-r--r-- 1 nervuzz nervuzz 8.6M Mar  6 22:21 part-00000-20878ced-5dd4-4d06-9111-e19666883a04-c000.snappy.parquet\n",
      "-rw-r--r-- 1 nervuzz nervuzz 8.6M Mar  6 22:21 part-00001-20878ced-5dd4-4d06-9111-e19666883a04-c000.snappy.parquet\n",
      "-rw-r--r-- 1 nervuzz nervuzz 8.6M Mar  6 22:21 part-00002-20878ced-5dd4-4d06-9111-e19666883a04-c000.snappy.parquet\n",
      "-rw-r--r-- 1 nervuzz nervuzz 8.6M Mar  6 22:21 part-00003-20878ced-5dd4-4d06-9111-e19666883a04-c000.snappy.parquet\n",
      "-rw-r--r-- 1 nervuzz nervuzz 8.6M Mar  6 22:21 part-00004-20878ced-5dd4-4d06-9111-e19666883a04-c000.snappy.parquet\n",
      "-rw-r--r-- 1 nervuzz nervuzz 8.6M Mar  6 22:21 part-00005-20878ced-5dd4-4d06-9111-e19666883a04-c000.snappy.parquet\n",
      "-rw-r--r-- 1 nervuzz nervuzz 8.6M Mar  6 22:21 part-00006-20878ced-5dd4-4d06-9111-e19666883a04-c000.snappy.parquet\n",
      "-rw-r--r-- 1 nervuzz nervuzz 8.6M Mar  6 22:21 part-00007-20878ced-5dd4-4d06-9111-e19666883a04-c000.snappy.parquet\n",
      "-rw-r--r-- 1 nervuzz nervuzz 8.6M Mar  6 22:21 part-00008-20878ced-5dd4-4d06-9111-e19666883a04-c000.snappy.parquet\n",
      "-rw-r--r-- 1 nervuzz nervuzz 8.6M Mar  6 22:21 part-00009-20878ced-5dd4-4d06-9111-e19666883a04-c000.snappy.parquet\n",
      "-rw-r--r-- 1 nervuzz nervuzz 8.6M Mar  6 22:21 part-00010-20878ced-5dd4-4d06-9111-e19666883a04-c000.snappy.parquet\n",
      "-rw-r--r-- 1 nervuzz nervuzz 8.6M Mar  6 22:21 part-00011-20878ced-5dd4-4d06-9111-e19666883a04-c000.snappy.parquet\n",
      "-rw-r--r-- 1 nervuzz nervuzz 8.6M Mar  6 22:21 part-00012-20878ced-5dd4-4d06-9111-e19666883a04-c000.snappy.parquet\n",
      "-rw-r--r-- 1 nervuzz nervuzz 8.6M Mar  6 22:21 part-00013-20878ced-5dd4-4d06-9111-e19666883a04-c000.snappy.parquet\n",
      "-rw-r--r-- 1 nervuzz nervuzz 8.6M Mar  6 22:21 part-00014-20878ced-5dd4-4d06-9111-e19666883a04-c000.snappy.parquet\n",
      "-rw-r--r-- 1 nervuzz nervuzz 8.6M Mar  6 22:21 part-00015-20878ced-5dd4-4d06-9111-e19666883a04-c000.snappy.parquet\n",
      "-rw-r--r-- 1 nervuzz nervuzz 8.6M Mar  6 22:21 part-00016-20878ced-5dd4-4d06-9111-e19666883a04-c000.snappy.parquet\n",
      "-rw-r--r-- 1 nervuzz nervuzz 8.6M Mar  6 22:21 part-00017-20878ced-5dd4-4d06-9111-e19666883a04-c000.snappy.parquet\n",
      "-rw-r--r-- 1 nervuzz nervuzz 8.6M Mar  6 22:21 part-00018-20878ced-5dd4-4d06-9111-e19666883a04-c000.snappy.parquet\n",
      "-rw-r--r-- 1 nervuzz nervuzz 8.6M Mar  6 22:21 part-00019-20878ced-5dd4-4d06-9111-e19666883a04-c000.snappy.parquet\n",
      "-rw-r--r-- 1 nervuzz nervuzz 8.6M Mar  6 22:21 part-00020-20878ced-5dd4-4d06-9111-e19666883a04-c000.snappy.parquet\n",
      "-rw-r--r-- 1 nervuzz nervuzz 8.6M Mar  6 22:21 part-00021-20878ced-5dd4-4d06-9111-e19666883a04-c000.snappy.parquet\n",
      "-rw-r--r-- 1 nervuzz nervuzz 8.6M Mar  6 22:21 part-00022-20878ced-5dd4-4d06-9111-e19666883a04-c000.snappy.parquet\n",
      "-rw-r--r-- 1 nervuzz nervuzz 8.6M Mar  6 22:21 part-00023-20878ced-5dd4-4d06-9111-e19666883a04-c000.snappy.parquet\n"
     ]
    }
   ],
   "source": [
    "# Question 2\n",
    "\n",
    "!ls -lh assets/fhvhv/2021/02"
   ]
  },
  {
   "cell_type": "code",
   "execution_count": 31,
   "id": "5afa42eb-4925-47fe-8d35-16710b5a9e59",
   "metadata": {},
   "outputs": [
    {
     "name": "stderr",
     "output_type": "stream",
     "text": [
      "                                                                                \r"
     ]
    },
    {
     "name": "stdout",
     "output_type": "stream",
     "text": [
      "+-------+-----------------+--------------------+------------------+-----------------+-------+\n",
      "|summary|hvfhs_license_num|dispatching_base_num|      PULocationID|     DOLocationID|SR_Flag|\n",
      "+-------+-----------------+--------------------+------------------+-----------------+-------+\n",
      "|  count|         11613942|            11613942|          11613942|         11613942|   1346|\n",
      "|   mean|             null|                null|135.25379642846502|138.8317934599639|    1.0|\n",
      "| stddev|             null|                null| 76.59301944910268|78.51688968882083|    0.0|\n",
      "|    min|           HV0003|              B02395|                 1|                1|      1|\n",
      "|    25%|             null|                null|                70|               72|    1.0|\n",
      "|    50%|             null|                null|               137|              140|    1.0|\n",
      "|    75%|             null|                null|               209|              213|    1.0|\n",
      "|    max|           HV0005|              B03136|               265|              265|      1|\n",
      "+-------+-----------------+--------------------+------------------+-----------------+-------+\n",
      "\n"
     ]
    }
   ],
   "source": [
    "df.summary().show()"
   ]
  },
  {
   "cell_type": "code",
   "execution_count": 32,
   "id": "ce8a8f83-9b55-4769-b028-f014baf6678c",
   "metadata": {},
   "outputs": [
    {
     "name": "stdout",
     "output_type": "stream",
     "text": [
      "11613943 assets/fhvhv_tripdata_2021-02.csv\n"
     ]
    }
   ],
   "source": [
    "! wc -l $dataset"
   ]
  },
  {
   "cell_type": "code",
   "execution_count": 18,
   "id": "96fbf57a-ce02-43cd-b59f-a37ce965a9f0",
   "metadata": {},
   "outputs": [
    {
     "name": "stderr",
     "output_type": "stream",
     "text": [
      "                                                                                \r"
     ]
    },
    {
     "data": {
      "text/plain": [
       "367170"
      ]
     },
     "execution_count": 18,
     "metadata": {},
     "output_type": "execute_result"
    }
   ],
   "source": [
    "# Question 3\n",
    "df \\\n",
    "    .filter(F.to_date(df.pickup_datetime) == '2021-02-15') \\\n",
    "    .select('dispatching_base_num', 'pickup_datetime') \\\n",
    "    .count()"
   ]
  },
  {
   "cell_type": "code",
   "execution_count": 19,
   "id": "a648399f-17f6-4702-89c5-577dbd5f62e9",
   "metadata": {},
   "outputs": [],
   "source": [
    "# Question 4\n",
    "df.registerTempTable(\"table_fhv\")"
   ]
  },
  {
   "cell_type": "code",
   "execution_count": 54,
   "id": "512ae872-dac0-48f8-bd3d-7ef454d80aca",
   "metadata": {},
   "outputs": [],
   "source": [
    "sql_on_df = spark.sql(\"\"\"\n",
    "    SELECT hvfhs_license_num,\n",
    "    dispatching_base_num,\n",
    "    PULocationID,\n",
    "    DOLocationID,\n",
    "    date_trunc('day', pickup_datetime) as day_of_pickup,\n",
    "    (dropoff_datetime - pickup_datetime) as trip_duration\n",
    "    FROM table_fhv\n",
    "\"\"\")"
   ]
  },
  {
   "cell_type": "code",
   "execution_count": 51,
   "id": "a8685712-f1a2-48ee-b5b4-56186d67ee37",
   "metadata": {},
   "outputs": [
    {
     "name": "stdout",
     "output_type": "stream",
     "text": [
      "root\n",
      " |-- hvfhs_license_num: string (nullable = true)\n",
      " |-- dispatching_base_num: string (nullable = true)\n",
      " |-- PULocationID: integer (nullable = true)\n",
      " |-- DOLocationID: integer (nullable = true)\n",
      " |-- day_of_pickup: timestamp (nullable = true)\n",
      " |-- trip_duration: interval (nullable = true)\n",
      "\n"
     ]
    }
   ],
   "source": [
    "sql_on_df.printSchema()"
   ]
  },
  {
   "cell_type": "code",
   "execution_count": 66,
   "id": "9232ef64-c38b-4e62-9c2c-274b1f2e1350",
   "metadata": {},
   "outputs": [
    {
     "name": "stderr",
     "output_type": "stream",
     "text": [
      "[Stage 15:>                                                         (0 + 8) / 8]\r"
     ]
    },
    {
     "name": "stdout",
     "output_type": "stream",
     "text": [
      "+-----------------+--------------------+-------------------+-------------------+------------+------------+-------+-----------+\n",
      "|hvfhs_license_num|dispatching_base_num|    pickup_datetime|   dropoff_datetime|PULocationID|DOLocationID|SR_Flag|diff_in_sec|\n",
      "+-----------------+--------------------+-------------------+-------------------+------------+------------+-------+-----------+\n",
      "|           HV0005|              B02510|2021-02-11 13:40:44|2021-02-12 10:39:44|         247|          41|   null|      75540|\n",
      "|           HV0004|              B02800|2021-02-17 15:54:53|2021-02-18 07:48:34|         242|         254|   null|      57221|\n",
      "|           HV0004|              B02800|2021-02-20 12:08:15|2021-02-21 00:22:14|         188|          55|   null|      44039|\n",
      "+-----------------+--------------------+-------------------+-------------------+------------+------------+-------+-----------+\n",
      "only showing top 3 rows\n",
      "\n"
     ]
    },
    {
     "name": "stderr",
     "output_type": "stream",
     "text": [
      "                                                                                \r"
     ]
    }
   ],
   "source": [
    "# sql_on_df.sort(sql_on_df.trip_duration.cast(IntegerType()).desc())\n",
    "# sql_on_df.show()\n",
    "df2 = df \\\n",
    "    .withColumn('diff_in_sec', F.col(\"dropoff_datetime\").cast(\"long\") - F.col('pickup_datetime').cast(\"long\"))\n",
    "df2.orderBy('diff_in_sec', ascending=False).show(3)\n",
    "#     .sort(df.diff_in_sec.desc()) \\\n",
    "#     .show()"
   ]
  },
  {
   "cell_type": "code",
   "execution_count": null,
   "id": "d1e40805-be88-4f32-8596-27f3a56a0615",
   "metadata": {},
   "outputs": [],
   "source": [
    "\n"
   ]
  }
 ],
 "metadata": {
  "kernelspec": {
   "display_name": "decamp-venv",
   "language": "python",
   "name": "decamp-venv"
  },
  "language_info": {
   "codemirror_mode": {
    "name": "ipython",
    "version": 3
   },
   "file_extension": ".py",
   "mimetype": "text/x-python",
   "name": "python",
   "nbconvert_exporter": "python",
   "pygments_lexer": "ipython3",
   "version": "3.9.10"
  }
 },
 "nbformat": 4,
 "nbformat_minor": 5
}
